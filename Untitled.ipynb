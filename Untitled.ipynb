{
 "cells": [
  {
   "cell_type": "code",
   "execution_count": 1,
   "metadata": {
    "ExecuteTime": {
     "end_time": "2020-01-13T13:04:48.324405Z",
     "start_time": "2020-01-13T13:04:16.003491Z"
    }
   },
   "outputs": [],
   "source": [
    "import make_features"
   ]
  },
  {
   "cell_type": "markdown",
   "metadata": {},
   "source": [
    "extract文件实现了从page的url中获得额外特征。具体而言就是正则表达式的匹配。\n",
    "例如：`BLEACH_zh.wikipedia.org_all-access_spider`  \n",
    "![url](images/image.svg)\n",
    "不同的group对应不同的feature  \n",
    "**注**：用圆括号将所有选择项括起来，相邻的选择项之间用|分隔。但用圆括号会有一个副作用，使相关的匹配会被缓存，此时可用`?:`放在第一个选项前来消除这种副作用"
   ]
  },
  {
   "cell_type": "code",
   "execution_count": 2,
   "metadata": {
    "ExecuteTime": {
     "end_time": "2020-01-13T13:08:04.822576Z",
     "start_time": "2020-01-13T13:05:21.874897Z"
    }
   },
   "outputs": [
    {
     "name": "stdout",
     "output_type": "stream",
     "text": [
      "Masked 0 pages from 145036\n",
      "start: 2015-07-01 00:00:00, end:2017-09-11 00:00:00, features_end:2017-11-13 00:00:00\n",
      "Percent of undefined autocorr = yearly:0.065, quarterly:0.003\n"
     ]
    },
    {
     "name": "stderr",
     "output_type": "stream",
     "text": [
      "E:\\github\\kaggle-web-traffic\\make_features.py:208: FutureWarning: \n",
      "Passing list-likes to .loc or [] with any missing label will raise\n",
      "KeyError in the future, you can use .reindex() as an alternative.\n",
      "\n",
      "See the documentation here:\n",
      "https://pandas.pydata.org/pandas-docs/stable/user_guide/indexing.html#deprecate-loc-reindex-listlike\n",
      "  return pd.Series(data=base_index.loc[dates].fillna(-1).astype(np.int16).values, index=dr)\n"
     ]
    },
    {
     "name": "stdout",
     "output_type": "stream",
     "text": [
      "WARNING:tensorflow:From E:\\github\\kaggle-web-traffic\\feeder.py:84: The name tf.get_local_variable is deprecated. Please use tf.compat.v1.get_local_variable instead.\n",
      "\n",
      "WARNING:tensorflow:From E:\\github\\kaggle-web-traffic\\feeder.py:57: The name tf.placeholder is deprecated. Please use tf.compat.v1.placeholder instead.\n",
      "\n",
      "WARNING:tensorflow:From E:\\github\\kaggle-web-traffic\\feeder.py:62: The name tf.train.Saver is deprecated. Please use tf.compat.v1.train.Saver instead.\n",
      "\n",
      "WARNING:tensorflow:From E:\\github\\kaggle-web-traffic\\feeder.py:63: The name tf.global_variables_initializer is deprecated. Please use tf.compat.v1.global_variables_initializer instead.\n",
      "\n",
      "WARNING:tensorflow:From E:\\github\\kaggle-web-traffic\\feeder.py:65: The name tf.Session is deprecated. Please use tf.compat.v1.Session instead.\n",
      "\n",
      "WARNING:tensorflow:From E:\\github\\kaggle-web-traffic\\feeder.py:65: The name tf.ConfigProto is deprecated. Please use tf.compat.v1.ConfigProto instead.\n",
      "\n"
     ]
    }
   ],
   "source": [
    "param = dict(\n",
    "    data_dir = 'data/vars',\n",
    "    valid_threshold = 0,\n",
    "    add_days = 63,\n",
    "    start = None,\n",
    "    end = None,\n",
    "    corr_backoffset = 0)\n",
    "make_features.run(param)"
   ]
  },
  {
   "cell_type": "code",
   "execution_count": null,
   "metadata": {},
   "outputs": [],
   "source": []
  }
 ],
 "metadata": {
  "kernelspec": {
   "display_name": "Python 3",
   "language": "python",
   "name": "python3"
  },
  "language_info": {
   "codemirror_mode": {
    "name": "ipython",
    "version": 3
   },
   "file_extension": ".py",
   "mimetype": "text/x-python",
   "name": "python",
   "nbconvert_exporter": "python",
   "pygments_lexer": "ipython3",
   "version": "3.6.9"
  },
  "toc": {
   "base_numbering": 1,
   "nav_menu": {},
   "number_sections": true,
   "sideBar": true,
   "skip_h1_title": false,
   "title_cell": "Table of Contents",
   "title_sidebar": "Contents",
   "toc_cell": false,
   "toc_position": {},
   "toc_section_display": true,
   "toc_window_display": false
  },
  "varInspector": {
   "cols": {
    "lenName": 16,
    "lenType": 16,
    "lenVar": 40
   },
   "kernels_config": {
    "python": {
     "delete_cmd_postfix": "",
     "delete_cmd_prefix": "del ",
     "library": "var_list.py",
     "varRefreshCmd": "print(var_dic_list())"
    },
    "r": {
     "delete_cmd_postfix": ") ",
     "delete_cmd_prefix": "rm(",
     "library": "var_list.r",
     "varRefreshCmd": "cat(var_dic_list()) "
    }
   },
   "types_to_exclude": [
    "module",
    "function",
    "builtin_function_or_method",
    "instance",
    "_Feature"
   ],
   "window_display": false
  }
 },
 "nbformat": 4,
 "nbformat_minor": 2
}
